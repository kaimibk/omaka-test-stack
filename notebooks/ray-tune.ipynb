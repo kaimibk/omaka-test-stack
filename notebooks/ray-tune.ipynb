{
 "cells": [
  {
   "cell_type": "markdown",
   "id": "7930dd78-2ceb-4b67-a782-7ca32d38137d",
   "metadata": {},
   "source": [
    "This example demonstrates basic Ray Tune random search and grid search."
   ]
  },
  {
   "cell_type": "code",
   "execution_count": null,
   "id": "c246d824-fed9-4448-ac64-786fa9b6818f",
   "metadata": {},
   "outputs": [],
   "source": [
    "import ray\n",
    "import time\n",
    "from ray import tune"
   ]
  },
  {
   "cell_type": "code",
   "execution_count": null,
   "id": "96344f83-995e-48a6-a06c-62614340d768",
   "metadata": {},
   "outputs": [],
   "source": [
    "ray.init(address=\"ray://ray-head:10001\")"
   ]
  },
  {
   "cell_type": "code",
   "execution_count": null,
   "id": "f695534f-081b-4d6d-a56b-a526aa0aa090",
   "metadata": {},
   "outputs": [],
   "source": [
    "def evaluation_fn(step, width, height):\n",
    "    time.sleep(0.1)\n",
    "    return (0.1 + width * step / 100)**(-1) + height * 0.1\n",
    "\n",
    "\n",
    "def easy_objective(config):\n",
    "    # Hyperparameters\n",
    "    width, height = config[\"width\"], config[\"height\"]\n",
    "\n",
    "    for step in range(config[\"steps\"]):\n",
    "        # Iterative training function - can be any arbitrary training procedure\n",
    "        intermediate_score = evaluation_fn(step, width, height)\n",
    "        # Feed the score back back to Tune.\n",
    "        tune.report(iterations=step, mean_loss=intermediate_score)"
   ]
  },
  {
   "cell_type": "markdown",
   "id": "37e70e38-1baa-4982-aa42-456e8e18ef2d",
   "metadata": {},
   "source": [
    "This will do a grid search over the `activation` parameter. This means that each of the two values (`relu` and `tanh`) will be sampled once for each sample (`num_samples`). We end up with 2 * 50 = 100 samples. The `width` and `height` parameters are sampled randomly. `steps` is a constant parameter."
   ]
  },
  {
   "cell_type": "code",
   "execution_count": null,
   "id": "b26ff485-4794-47cf-a9e8-9d688add53d4",
   "metadata": {},
   "outputs": [],
   "source": [
    "SMOKE_TEST = True\n",
    "\n",
    "analysis = tune.run(\n",
    "        easy_objective,\n",
    "        metric=\"mean_loss\",\n",
    "        mode=\"min\",\n",
    "        num_samples=5 if SMOKE_TEST else 50,\n",
    "        config={\n",
    "            \"steps\": 5 if SMOKE_TEST else 100,\n",
    "            \"width\": tune.uniform(0, 20),\n",
    "            \"height\": tune.uniform(-100, 100),\n",
    "            \"activation\": tune.grid_search([\"relu\", \"tanh\"])\n",
    "        }\n",
    ")"
   ]
  },
  {
   "cell_type": "code",
   "execution_count": null,
   "id": "5b892517-b21f-408c-88ba-3ef35a15bbe7",
   "metadata": {},
   "outputs": [],
   "source": [
    "print(\"Best hyperparameters found were: \", analysis.best_config)"
   ]
  },
  {
   "cell_type": "code",
   "execution_count": null,
   "id": "32f33844-de26-412a-9474-b3880c1c12aa",
   "metadata": {},
   "outputs": [],
   "source": []
  }
 ],
 "metadata": {
  "kernelspec": {
   "display_name": "Python 3 (ipykernel)",
   "language": "python",
   "name": "python3"
  },
  "language_info": {
   "codemirror_mode": {
    "name": "ipython",
    "version": 3
   },
   "file_extension": ".py",
   "mimetype": "text/x-python",
   "name": "python",
   "nbconvert_exporter": "python",
   "pygments_lexer": "ipython3",
   "version": "3.10.6"
  }
 },
 "nbformat": 4,
 "nbformat_minor": 5
}
